{
 "cells": [
  {
   "cell_type": "code",
   "execution_count": 1,
   "metadata": {},
   "outputs": [],
   "source": [
    "import pandas as pd\n",
    "import sys "
   ]
  },
  {
   "cell_type": "code",
   "execution_count": 2,
   "metadata": {},
   "outputs": [],
   "source": [
    "def count_pos_kmer(Seq,k):\n",
    "    \"\"\"\n",
    "    Summary : The function Counts the kmers of size k, where k is specified as an argument.\n",
    "    \n",
    "    description: This function takes k and a sequence Seq as input arguments and determines the number of possible/expected k-mers \n",
    "    for a particular k-value\n",
    "    \n",
    "    Parameters: \n",
    "    Seq: the input sequence for which the number of k-mers need to be determined\n",
    "    k: the input value, ranges from 1 to length of the sequence \n",
    "    \n",
    "    Return:\n",
    "    pos_kmers: the number of kmers possible\n",
    "    \"\"\"\n",
    "    \n",
    "    lk_pos = []\n",
    "    if k == 1:\n",
    "        return 4;\n",
    "    else:\n",
    "        for i in range(0,len(Seq)-k+1):\n",
    "            lk_pos.append(Seq[i:i+k])\n",
    "            \n",
    "        return len(lk_pos)"
   ]
  },
  {
   "cell_type": "code",
   "execution_count": 4,
   "metadata": {},
   "outputs": [],
   "source": [
    "def create_kmer_df(Seq):\n",
    "    \"\"\"\n",
    "    Summary: Creates a data frame with k values, associated\n",
    "    number of observed number of kmers and all possible possible number of kmers as columns. \n",
    "    \n",
    "    Description: This function takes a sequence Seq as input argument and returns a pandas data frame \n",
    "    which has columns k value, observed kmer count and possible kmer count.\n",
    "    \n",
    "    Parameters: \n",
    "    Seq: the input sequence for which the kmer data frame needs to be created\n",
    "    \n",
    "    Return:\n",
    "    kmer_df: kmer data drame\n",
    "    \"\"\"\n",
    "    #import pandas as pd\n",
    "    k = []\n",
    "    k_pos_list = []\n",
    "    k_obs_list = []\n",
    "    k = list(range(1,len(Seq)+1))\n",
    "    \n",
    "    for i in k:\n",
    "        k_pos = count_pos_kmer(Seq,i)\n",
    "        k_pos_list.append(k_pos)\n",
    "    \n",
    "    for i in k:\n",
    "        k_obs = count_obs_kmer(Seq,i)\n",
    "        k_obs_list.append(k_obs)\n",
    "    \n",
    "    kmer_df = pd.DataFrame(     # creating pandas the data frame\n",
    "    {\n",
    "         'k':k,\n",
    "         'Observed kmers':k_obs_list,\n",
    "         'Possible kmers':k_pos_list\n",
    "    }\n",
    "    )\n",
    "    return kmer_df"
   ]
  },
  {
   "cell_type": "code",
   "execution_count": 6,
   "metadata": {},
   "outputs": [],
   "source": [
    "def linguistic_complexity(Seq):\n",
    "    \"\"\"\n",
    "    Summary: Calculates the lingusitic complexity of a given sequence\n",
    "    \n",
    "    Description: This function takes a sequence Seq as input argument and produces the linguistic complexity, \n",
    "    the proportion of k-mers that are observed compared to the total number that are theoretically possible\n",
    "        \n",
    "    Parameters: \n",
    "    Seq: the input sequence for which the linguistic complexity needs to be determined\n",
    "    \n",
    "    Return:\n",
    "    lc: linguistic complexity\n",
    "    \"\"\"\n",
    "    \n",
    "    kmer_df = create_kmer_df(Seq)\n",
    "    tot_obs_kmer = sum(kmer_df['Observed kmers'])\n",
    "    tot_pos_kmer = sum(kmer_df['Possible kmers'])\n",
    "    lc = tot_obs_kmer/tot_pos_kmer\n",
    "    return lc"
   ]
  },
  {
   "cell_type": "code",
   "execution_count": null,
   "metadata": {},
   "outputs": [],
   "source": [
    "if __name__=='__main__':\n",
    "    \n",
    "    myfile = sys.argv[1]\n",
    "    with open(myfile,'r') as current_file:\n",
    "        text = current_file.read()\n",
    "    seq = text.split() # split sequences\n",
    "    for i in range(0,len(seq)):\n",
    "        #print(seq[i])\n",
    "        lc_seq = linguistic_complexity(seq[i])\n",
    "        print(lc_seq) # print the linguistic complexity\n",
    "        #plot_kmer_prop(seq[i]) # produce the plot for kmer proportion"
   ]
  },
  {
   "cell_type": "code",
   "execution_count": null,
   "metadata": {},
   "outputs": [],
   "source": []
  }
 ],
 "metadata": {
  "kernelspec": {
   "display_name": "Python 3",
   "language": "python",
   "name": "python3"
  },
  "language_info": {
   "codemirror_mode": {
    "name": "ipython",
    "version": 3
   },
   "file_extension": ".py",
   "mimetype": "text/x-python",
   "name": "python",
   "nbconvert_exporter": "python",
   "pygments_lexer": "ipython3",
   "version": "3.8.3"
  }
 },
 "nbformat": 4,
 "nbformat_minor": 4
}
